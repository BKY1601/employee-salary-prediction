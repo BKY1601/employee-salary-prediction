{
 "cells": [
  {
   "cell_type": "code",
   "execution_count": 9,
   "id": "f8b173c8-481a-4efc-bac3-46f536afee36",
   "metadata": {},
   "outputs": [],
   "source": [
    "#Employee Salary Predicition using adult csv dataset\n",
    "\n",
    "import pandas as pd"
   ]
  },
  {
   "cell_type": "code",
   "execution_count": 11,
   "id": "c8231bc3-2e19-4bfc-94b0-766be83774c5",
   "metadata": {},
   "outputs": [],
   "source": [
    "data=pd.read_csv(r\"C:\\Users\\Bipin\\Employee Salary Predicition\\Data\\adult.csv\")"
   ]
  },
  {
   "cell_type": "code",
   "execution_count": null,
   "id": "b53e9e43-dcf1-40ed-9f59-35dbba3ec3cb",
   "metadata": {},
   "outputs": [],
   "source": [
    "data"
   ]
  },
  {
   "cell_type": "code",
   "execution_count": null,
   "id": "95abe83e-adc2-4527-9b5a-5fe65043d821",
   "metadata": {},
   "outputs": [],
   "source": [
    "data.shape"
   ]
  },
  {
   "cell_type": "code",
   "execution_count": null,
   "id": "8539666d-a32c-4fda-a354-dddf8c9c13f3",
   "metadata": {},
   "outputs": [],
   "source": [
    "data.head(7)"
   ]
  },
  {
   "cell_type": "code",
   "execution_count": null,
   "id": "1bf17e66-773d-4f1e-8fb5-2c9dd6574cdd",
   "metadata": {},
   "outputs": [],
   "source": [
    "data.tail()"
   ]
  },
  {
   "cell_type": "code",
   "execution_count": null,
   "id": "0cfd4204-9e29-4153-b4a6-928480b0bd90",
   "metadata": {},
   "outputs": [],
   "source": [
    "#Null Values\n",
    "data.isna()"
   ]
  },
  {
   "cell_type": "code",
   "execution_count": null,
   "id": "90590afc-ef59-43fe-8fc1-ebad93f84134",
   "metadata": {},
   "outputs": [],
   "source": [
    "data.isna().sum()"
   ]
  },
  {
   "cell_type": "code",
   "execution_count": null,
   "id": "ca46bb28-039d-4ce1-a740-52e8e2914cda",
   "metadata": {},
   "outputs": [],
   "source": [
    "print(data.gender.value_counts())"
   ]
  },
  {
   "cell_type": "code",
   "execution_count": null,
   "id": "49a04c94-9efb-4364-a5b2-41662e826e2f",
   "metadata": {},
   "outputs": [],
   "source": [
    "print(data.occupation.value_counts())"
   ]
  },
  {
   "cell_type": "code",
   "execution_count": null,
   "id": "7b0d7589-65b5-4e9b-91d0-b5f94fb911b1",
   "metadata": {},
   "outputs": [],
   "source": [
    "print(data['marital-status'].value_counts())"
   ]
  },
  {
   "cell_type": "code",
   "execution_count": null,
   "id": "5da9cf81-ef53-4a63-8d0b-e37bfe7db31c",
   "metadata": {},
   "outputs": [],
   "source": [
    "print(data['education'].value_counts())"
   ]
  },
  {
   "cell_type": "code",
   "execution_count": null,
   "id": "33d62c7f-993a-4ab6-bb1d-a76edf43a74e",
   "metadata": {},
   "outputs": [],
   "source": [
    "print(data['workclass'].value_counts())"
   ]
  },
  {
   "cell_type": "code",
   "execution_count": 13,
   "id": "b45fed0c-a211-4239-8ef9-b52f91c891db",
   "metadata": {},
   "outputs": [
    {
     "name": "stderr",
     "output_type": "stream",
     "text": [
      "C:\\Users\\Bipin\\AppData\\Local\\Temp\\ipykernel_8112\\2426378524.py:1: FutureWarning: A value is trying to be set on a copy of a DataFrame or Series through chained assignment using an inplace method.\n",
      "The behavior will change in pandas 3.0. This inplace method will never work because the intermediate object on which we are setting values always behaves as a copy.\n",
      "\n",
      "For example, when doing 'df[col].method(value, inplace=True)', try using 'df.method({col: value}, inplace=True)' or df[col] = df[col].method(value) instead, to perform the operation inplace on the original object.\n",
      "\n",
      "\n",
      "  data.occupation.replace({'?':'Others'},inplace=True)\n"
     ]
    }
   ],
   "source": [
    "data.occupation.replace({'?':'Others'},inplace=True)"
   ]
  },
  {
   "cell_type": "code",
   "execution_count": null,
   "id": "5fec9d4d-c863-49e0-a8cc-401557c04a4d",
   "metadata": {},
   "outputs": [],
   "source": [
    "print(data['occupation'].value_counts())"
   ]
  },
  {
   "cell_type": "code",
   "execution_count": null,
   "id": "4b3f8883-e62f-4fa2-b7c7-b0a6b9148528",
   "metadata": {},
   "outputs": [],
   "source": [
    "data"
   ]
  },
  {
   "cell_type": "code",
   "execution_count": 15,
   "id": "c796ba17-3abc-431a-85db-779149f2ead0",
   "metadata": {},
   "outputs": [
    {
     "name": "stderr",
     "output_type": "stream",
     "text": [
      "C:\\Users\\Bipin\\AppData\\Local\\Temp\\ipykernel_8112\\2835487482.py:1: FutureWarning: A value is trying to be set on a copy of a DataFrame or Series through chained assignment using an inplace method.\n",
      "The behavior will change in pandas 3.0. This inplace method will never work because the intermediate object on which we are setting values always behaves as a copy.\n",
      "\n",
      "For example, when doing 'df[col].method(value, inplace=True)', try using 'df.method({col: value}, inplace=True)' or df[col] = df[col].method(value) instead, to perform the operation inplace on the original object.\n",
      "\n",
      "\n",
      "  data.workclass.replace({'?':'NotListed'},inplace=True)\n"
     ]
    }
   ],
   "source": [
    "data.workclass.replace({'?':'NotListed'},inplace=True)"
   ]
  },
  {
   "cell_type": "code",
   "execution_count": null,
   "id": "a22d6719-86bb-41df-ace3-b02b609cdbcb",
   "metadata": {},
   "outputs": [],
   "source": [
    "print(data['workclass'].value_counts())"
   ]
  },
  {
   "cell_type": "code",
   "execution_count": 19,
   "id": "0df04d82-b0ad-4e02-b3fa-22eb756f784a",
   "metadata": {},
   "outputs": [],
   "source": [
    "data=data[data['workclass']!='Without-pay']\n",
    "data=data[data['workclass']!='Never-worked']"
   ]
  },
  {
   "cell_type": "code",
   "execution_count": null,
   "id": "26fc8d70-266a-41ae-b8cb-870727caf927",
   "metadata": {},
   "outputs": [],
   "source": [
    "print(data['workclass'].value_counts())"
   ]
  },
  {
   "cell_type": "code",
   "execution_count": null,
   "id": "f4e6f55b-a10c-4eef-b3ae-bcf6d55ec661",
   "metadata": {},
   "outputs": [],
   "source": [
    "data.shape"
   ]
  },
  {
   "cell_type": "code",
   "execution_count": 21,
   "id": "2fdec13c-7854-47f5-9055-e2c32e9ec3af",
   "metadata": {},
   "outputs": [],
   "source": [
    "data=data[data['education']!='5th-6th']\n",
    "data=data[data['education']!='1st-4th']\n",
    "data=data[data['education']!='Preschool']"
   ]
  },
  {
   "cell_type": "code",
   "execution_count": null,
   "id": "5245c8d5-c0d8-4634-878e-503775b8f485",
   "metadata": {},
   "outputs": [],
   "source": [
    "print(data['education'].value_counts())"
   ]
  },
  {
   "cell_type": "code",
   "execution_count": null,
   "id": "d3ab626d-4d20-4d0f-b685-f870ad359b95",
   "metadata": {},
   "outputs": [],
   "source": [
    "data.shape"
   ]
  },
  {
   "cell_type": "code",
   "execution_count": 23,
   "id": "377a5c31-810f-4026-8c9f-8fce3ac9d974",
   "metadata": {},
   "outputs": [],
   "source": [
    "#redudancy\n",
    "data.drop(columns=['education'],inplace=True)"
   ]
  },
  {
   "cell_type": "code",
   "execution_count": 25,
   "id": "7a403d4b-9021-416b-b276-bb9be333fd7b",
   "metadata": {},
   "outputs": [],
   "source": [
    "data.drop(columns=['fnlwgt'],inplace=True)\n",
    "data.drop(columns=['marital-status'],inplace=True)\n",
    "data.drop(columns=['relationship'],inplace=True)\n",
    "data.drop(columns=['race'],inplace=True)\n",
    "data.drop(columns=['capital-gain'],inplace=True)\n",
    "data.drop(columns=['capital-loss'],inplace=True)\n",
    "data.drop(columns=['native-country'],inplace=True)\n",
    "data.drop(columns=['workclass'],inplace=True)"
   ]
  },
  {
   "cell_type": "code",
   "execution_count": 27,
   "id": "7529bcfa-e75d-4543-ae31-e716029f9906",
   "metadata": {},
   "outputs": [
    {
     "name": "stdout",
     "output_type": "stream",
     "text": [
      "['age', 'educational-num', 'occupation', 'gender', 'hours-per-week', 'income']\n"
     ]
    }
   ],
   "source": [
    "print(data.columns.tolist())"
   ]
  },
  {
   "cell_type": "code",
   "execution_count": null,
   "id": "33e5575a-8d9d-4e98-95c6-52aa54d2048f",
   "metadata": {},
   "outputs": [],
   "source": [
    "data"
   ]
  },
  {
   "cell_type": "code",
   "execution_count": null,
   "id": "24f2bf91-9da5-4e52-9afe-688be0287bd6",
   "metadata": {},
   "outputs": [],
   "source": [
    "#Outlier\n",
    "import matplotlib.pyplot as plt\n",
    "plt.boxplot(data['age'])\n",
    "plt.show()"
   ]
  },
  {
   "cell_type": "code",
   "execution_count": null,
   "id": "d4a73665-7bea-47aa-9284-3ebf426298ad",
   "metadata": {},
   "outputs": [],
   "source": [
    "data=data[(data['age']<=75) & (data['age']>=17)]"
   ]
  },
  {
   "cell_type": "code",
   "execution_count": null,
   "id": "e31f08a9-c9bd-4a75-9ee9-43411849d806",
   "metadata": {},
   "outputs": [],
   "source": [
    "plt.boxplot(data['age'])\n",
    "plt.show()"
   ]
  },
  {
   "cell_type": "code",
   "execution_count": 29,
   "id": "31e11c81-535a-44bc-83fa-3aef2fb22701",
   "metadata": {},
   "outputs": [
    {
     "data": {
      "text/html": [
       "<div>\n",
       "<style scoped>\n",
       "    .dataframe tbody tr th:only-of-type {\n",
       "        vertical-align: middle;\n",
       "    }\n",
       "\n",
       "    .dataframe tbody tr th {\n",
       "        vertical-align: top;\n",
       "    }\n",
       "\n",
       "    .dataframe thead th {\n",
       "        text-align: right;\n",
       "    }\n",
       "</style>\n",
       "<table border=\"1\" class=\"dataframe\">\n",
       "  <thead>\n",
       "    <tr style=\"text-align: right;\">\n",
       "      <th></th>\n",
       "      <th>age</th>\n",
       "      <th>educational-num</th>\n",
       "      <th>occupation</th>\n",
       "      <th>gender</th>\n",
       "      <th>hours-per-week</th>\n",
       "      <th>income</th>\n",
       "    </tr>\n",
       "  </thead>\n",
       "  <tbody>\n",
       "    <tr>\n",
       "      <th>0</th>\n",
       "      <td>25</td>\n",
       "      <td>7</td>\n",
       "      <td>6</td>\n",
       "      <td>1</td>\n",
       "      <td>40</td>\n",
       "      <td>&lt;=50K</td>\n",
       "    </tr>\n",
       "    <tr>\n",
       "      <th>1</th>\n",
       "      <td>38</td>\n",
       "      <td>9</td>\n",
       "      <td>4</td>\n",
       "      <td>1</td>\n",
       "      <td>50</td>\n",
       "      <td>&lt;=50K</td>\n",
       "    </tr>\n",
       "    <tr>\n",
       "      <th>2</th>\n",
       "      <td>28</td>\n",
       "      <td>12</td>\n",
       "      <td>11</td>\n",
       "      <td>1</td>\n",
       "      <td>40</td>\n",
       "      <td>&gt;50K</td>\n",
       "    </tr>\n",
       "    <tr>\n",
       "      <th>3</th>\n",
       "      <td>44</td>\n",
       "      <td>10</td>\n",
       "      <td>6</td>\n",
       "      <td>1</td>\n",
       "      <td>40</td>\n",
       "      <td>&gt;50K</td>\n",
       "    </tr>\n",
       "    <tr>\n",
       "      <th>4</th>\n",
       "      <td>18</td>\n",
       "      <td>10</td>\n",
       "      <td>8</td>\n",
       "      <td>0</td>\n",
       "      <td>30</td>\n",
       "      <td>&lt;=50K</td>\n",
       "    </tr>\n",
       "    <tr>\n",
       "      <th>...</th>\n",
       "      <td>...</td>\n",
       "      <td>...</td>\n",
       "      <td>...</td>\n",
       "      <td>...</td>\n",
       "      <td>...</td>\n",
       "      <td>...</td>\n",
       "    </tr>\n",
       "    <tr>\n",
       "      <th>48837</th>\n",
       "      <td>27</td>\n",
       "      <td>12</td>\n",
       "      <td>13</td>\n",
       "      <td>0</td>\n",
       "      <td>38</td>\n",
       "      <td>&lt;=50K</td>\n",
       "    </tr>\n",
       "    <tr>\n",
       "      <th>48838</th>\n",
       "      <td>40</td>\n",
       "      <td>9</td>\n",
       "      <td>6</td>\n",
       "      <td>1</td>\n",
       "      <td>40</td>\n",
       "      <td>&gt;50K</td>\n",
       "    </tr>\n",
       "    <tr>\n",
       "      <th>48839</th>\n",
       "      <td>58</td>\n",
       "      <td>9</td>\n",
       "      <td>0</td>\n",
       "      <td>0</td>\n",
       "      <td>40</td>\n",
       "      <td>&lt;=50K</td>\n",
       "    </tr>\n",
       "    <tr>\n",
       "      <th>48840</th>\n",
       "      <td>22</td>\n",
       "      <td>9</td>\n",
       "      <td>0</td>\n",
       "      <td>1</td>\n",
       "      <td>20</td>\n",
       "      <td>&lt;=50K</td>\n",
       "    </tr>\n",
       "    <tr>\n",
       "      <th>48841</th>\n",
       "      <td>52</td>\n",
       "      <td>9</td>\n",
       "      <td>3</td>\n",
       "      <td>0</td>\n",
       "      <td>40</td>\n",
       "      <td>&gt;50K</td>\n",
       "    </tr>\n",
       "  </tbody>\n",
       "</table>\n",
       "<p>47972 rows × 6 columns</p>\n",
       "</div>"
      ],
      "text/plain": [
       "       age  educational-num  occupation  gender  hours-per-week income\n",
       "0       25                7           6       1              40  <=50K\n",
       "1       38                9           4       1              50  <=50K\n",
       "2       28               12          11       1              40   >50K\n",
       "3       44               10           6       1              40   >50K\n",
       "4       18               10           8       0              30  <=50K\n",
       "...    ...              ...         ...     ...             ...    ...\n",
       "48837   27               12          13       0              38  <=50K\n",
       "48838   40                9           6       1              40   >50K\n",
       "48839   58                9           0       0              40  <=50K\n",
       "48840   22                9           0       1              20  <=50K\n",
       "48841   52                9           3       0              40   >50K\n",
       "\n",
       "[47972 rows x 6 columns]"
      ]
     },
     "execution_count": 29,
     "metadata": {},
     "output_type": "execute_result"
    }
   ],
   "source": [
    "#Label encoding\n",
    "from sklearn.preprocessing import LabelEncoder\n",
    "occ_encoder = LabelEncoder()\n",
    "gender_encoder = LabelEncoder()\n",
    "#data['workclass']=encoder.fit_transform(data['workclass'])\n",
    "#data['marital-status']=encoder.fit_transform(data['marital-status'])\n",
    "data['occupation']=occ_encoder.fit_transform(data['occupation'])\n",
    "#data['relationship']=encoder.fit_transform(data['relationship'])\n",
    "#data['race']=encoder.fit_transform(data['race'])\n",
    "data['gender']=gender_encoder.fit_transform(data['gender'])\n",
    "#data['native-country']=encoder.fit_transform(data['native-country'])\n",
    "data"
   ]
  },
  {
   "cell_type": "code",
   "execution_count": 31,
   "id": "28a2f437-b99b-4864-80f4-d97128c4dc38",
   "metadata": {},
   "outputs": [
    {
     "data": {
      "text/html": [
       "<div>\n",
       "<style scoped>\n",
       "    .dataframe tbody tr th:only-of-type {\n",
       "        vertical-align: middle;\n",
       "    }\n",
       "\n",
       "    .dataframe tbody tr th {\n",
       "        vertical-align: top;\n",
       "    }\n",
       "\n",
       "    .dataframe thead th {\n",
       "        text-align: right;\n",
       "    }\n",
       "</style>\n",
       "<table border=\"1\" class=\"dataframe\">\n",
       "  <thead>\n",
       "    <tr style=\"text-align: right;\">\n",
       "      <th></th>\n",
       "      <th>age</th>\n",
       "      <th>educational-num</th>\n",
       "      <th>occupation</th>\n",
       "      <th>gender</th>\n",
       "      <th>hours-per-week</th>\n",
       "    </tr>\n",
       "  </thead>\n",
       "  <tbody>\n",
       "    <tr>\n",
       "      <th>0</th>\n",
       "      <td>25</td>\n",
       "      <td>7</td>\n",
       "      <td>6</td>\n",
       "      <td>1</td>\n",
       "      <td>40</td>\n",
       "    </tr>\n",
       "    <tr>\n",
       "      <th>1</th>\n",
       "      <td>38</td>\n",
       "      <td>9</td>\n",
       "      <td>4</td>\n",
       "      <td>1</td>\n",
       "      <td>50</td>\n",
       "    </tr>\n",
       "    <tr>\n",
       "      <th>2</th>\n",
       "      <td>28</td>\n",
       "      <td>12</td>\n",
       "      <td>11</td>\n",
       "      <td>1</td>\n",
       "      <td>40</td>\n",
       "    </tr>\n",
       "    <tr>\n",
       "      <th>3</th>\n",
       "      <td>44</td>\n",
       "      <td>10</td>\n",
       "      <td>6</td>\n",
       "      <td>1</td>\n",
       "      <td>40</td>\n",
       "    </tr>\n",
       "    <tr>\n",
       "      <th>4</th>\n",
       "      <td>18</td>\n",
       "      <td>10</td>\n",
       "      <td>8</td>\n",
       "      <td>0</td>\n",
       "      <td>30</td>\n",
       "    </tr>\n",
       "    <tr>\n",
       "      <th>...</th>\n",
       "      <td>...</td>\n",
       "      <td>...</td>\n",
       "      <td>...</td>\n",
       "      <td>...</td>\n",
       "      <td>...</td>\n",
       "    </tr>\n",
       "    <tr>\n",
       "      <th>48837</th>\n",
       "      <td>27</td>\n",
       "      <td>12</td>\n",
       "      <td>13</td>\n",
       "      <td>0</td>\n",
       "      <td>38</td>\n",
       "    </tr>\n",
       "    <tr>\n",
       "      <th>48838</th>\n",
       "      <td>40</td>\n",
       "      <td>9</td>\n",
       "      <td>6</td>\n",
       "      <td>1</td>\n",
       "      <td>40</td>\n",
       "    </tr>\n",
       "    <tr>\n",
       "      <th>48839</th>\n",
       "      <td>58</td>\n",
       "      <td>9</td>\n",
       "      <td>0</td>\n",
       "      <td>0</td>\n",
       "      <td>40</td>\n",
       "    </tr>\n",
       "    <tr>\n",
       "      <th>48840</th>\n",
       "      <td>22</td>\n",
       "      <td>9</td>\n",
       "      <td>0</td>\n",
       "      <td>1</td>\n",
       "      <td>20</td>\n",
       "    </tr>\n",
       "    <tr>\n",
       "      <th>48841</th>\n",
       "      <td>52</td>\n",
       "      <td>9</td>\n",
       "      <td>3</td>\n",
       "      <td>0</td>\n",
       "      <td>40</td>\n",
       "    </tr>\n",
       "  </tbody>\n",
       "</table>\n",
       "<p>47972 rows × 5 columns</p>\n",
       "</div>"
      ],
      "text/plain": [
       "       age  educational-num  occupation  gender  hours-per-week\n",
       "0       25                7           6       1              40\n",
       "1       38                9           4       1              50\n",
       "2       28               12          11       1              40\n",
       "3       44               10           6       1              40\n",
       "4       18               10           8       0              30\n",
       "...    ...              ...         ...     ...             ...\n",
       "48837   27               12          13       0              38\n",
       "48838   40                9           6       1              40\n",
       "48839   58                9           0       0              40\n",
       "48840   22                9           0       1              20\n",
       "48841   52                9           3       0              40\n",
       "\n",
       "[47972 rows x 5 columns]"
      ]
     },
     "execution_count": 31,
     "metadata": {},
     "output_type": "execute_result"
    }
   ],
   "source": [
    "x=data.drop(columns=['income']) # input\n",
    "y=data['income'] #output\n",
    "x"
   ]
  },
  {
   "cell_type": "code",
   "execution_count": 33,
   "id": "f67c16f0-a967-48a5-a09d-f37be52540fc",
   "metadata": {},
   "outputs": [
    {
     "data": {
      "text/plain": [
       "0        <=50K\n",
       "1        <=50K\n",
       "2         >50K\n",
       "3         >50K\n",
       "4        <=50K\n",
       "         ...  \n",
       "48837    <=50K\n",
       "48838     >50K\n",
       "48839    <=50K\n",
       "48840    <=50K\n",
       "48841     >50K\n",
       "Name: income, Length: 47972, dtype: object"
      ]
     },
     "execution_count": 33,
     "metadata": {},
     "output_type": "execute_result"
    }
   ],
   "source": [
    "y"
   ]
  },
  {
   "cell_type": "code",
   "execution_count": 35,
   "id": "1054e539-8c08-4d61-91ae-c813373b1bec",
   "metadata": {},
   "outputs": [
    {
     "data": {
      "text/plain": [
       "array([[0.10958904, 0.25      , 0.42857143, 1.        , 0.39795918],\n",
       "       [0.28767123, 0.41666667, 0.28571429, 1.        , 0.5       ],\n",
       "       [0.15068493, 0.66666667, 0.78571429, 1.        , 0.39795918],\n",
       "       ...,\n",
       "       [0.56164384, 0.41666667, 0.        , 0.        , 0.39795918],\n",
       "       [0.06849315, 0.41666667, 0.        , 1.        , 0.19387755],\n",
       "       [0.47945205, 0.41666667, 0.21428571, 0.        , 0.39795918]])"
      ]
     },
     "execution_count": 35,
     "metadata": {},
     "output_type": "execute_result"
    }
   ],
   "source": [
    "from sklearn.preprocessing import MinMaxScaler\n",
    "scaler=MinMaxScaler()\n",
    "x=scaler.fit_transform(x)\n",
    "x"
   ]
  },
  {
   "cell_type": "code",
   "execution_count": 79,
   "id": "69d7f89a-8ef7-429d-9d9c-b26de77fbbeb",
   "metadata": {},
   "outputs": [],
   "source": [
    "from sklearn.model_selection import train_test_split\n",
    "xtrain, xtest, ytrain, ytest=train_test_split(x,y, test_size=0.2, random_state=23, stratify=y)"
   ]
  },
  {
   "cell_type": "code",
   "execution_count": 89,
   "id": "1d135cb5-acec-460e-a893-dbc8e0dbae77",
   "metadata": {},
   "outputs": [
    {
     "data": {
      "text/plain": [
       "array([[0.04109589, 0.41666667, 0.5       , 0.        , 0.34693878],\n",
       "       [0.26027397, 0.41666667, 0.57142857, 1.        , 0.39795918],\n",
       "       [0.02739726, 0.16666667, 0.57142857, 0.        , 0.37755102],\n",
       "       ...,\n",
       "       [0.05479452, 0.41666667, 0.57142857, 0.        , 0.39795918],\n",
       "       [0.19178082, 0.08333333, 0.28571429, 0.        , 0.41836735],\n",
       "       [0.19178082, 0.41666667, 0.14285714, 1.        , 0.5       ]])"
      ]
     },
     "execution_count": 89,
     "metadata": {},
     "output_type": "execute_result"
    }
   ],
   "source": [
    "xtrain"
   ]
  },
  {
   "cell_type": "code",
   "execution_count": 53,
   "id": "013faf6b-be13-4916-b08a-4578a022c647",
   "metadata": {},
   "outputs": [
    {
     "data": {
      "text/plain": [
       "array(['<=50K', '<=50K', '>50K', ..., '<=50K', '>50K', '<=50K'],\n",
       "      dtype=object)"
      ]
     },
     "execution_count": 53,
     "metadata": {},
     "output_type": "execute_result"
    }
   ],
   "source": [
    "#Machine learing Algorithm\n",
    "from sklearn.neighbors import KNeighborsClassifier\n",
    "knn=KNeighborsClassifier()\n",
    "knn.fit(xtrain,ytrain) #input and output training data\n",
    "predict0=knn.predict(xtest)\n",
    "predict0\n"
   ]
  },
  {
   "cell_type": "code",
   "execution_count": 55,
   "id": "2d7a8bbd-c15c-4a62-9bb9-c7223e2f0307",
   "metadata": {},
   "outputs": [
    {
     "data": {
      "text/plain": [
       "0.7864512767066181"
      ]
     },
     "execution_count": 55,
     "metadata": {},
     "output_type": "execute_result"
    }
   ],
   "source": [
    "from sklearn.metrics import accuracy_score\n",
    "accuracy_score(ytest,predict0)"
   ]
  },
  {
   "cell_type": "code",
   "execution_count": 59,
   "id": "c6cac235-6f12-4689-bb49-6fbaf9f2f5cb",
   "metadata": {},
   "outputs": [
    {
     "data": {
      "text/plain": [
       "array(['<=50K', '<=50K', '<=50K', ..., '>50K', '>50K', '<=50K'],\n",
       "      dtype=object)"
      ]
     },
     "execution_count": 59,
     "metadata": {},
     "output_type": "execute_result"
    }
   ],
   "source": [
    "#Machine learing Algorithm\n",
    "from sklearn.linear_model import LogisticRegression\n",
    "lr=LogisticRegression(class_weight='balanced', max_iter=1000)\n",
    "lr.fit(xtrain,ytrain) #input and output training data\n",
    "predict1=lr.predict(xtest)\n",
    "predict1 #predict value"
   ]
  },
  {
   "cell_type": "code",
   "execution_count": 61,
   "id": "81124f0b-6022-44e8-846d-c42542275f6a",
   "metadata": {},
   "outputs": [
    {
     "data": {
      "text/plain": [
       "0.7373632100052111"
      ]
     },
     "execution_count": 61,
     "metadata": {},
     "output_type": "execute_result"
    }
   ],
   "source": [
    "from sklearn.metrics import accuracy_score\n",
    "accuracy_score(ytest,predict1)"
   ]
  },
  {
   "cell_type": "code",
   "execution_count": null,
   "id": "3ade9a15-e966-4028-81bb-624e7cdf03fa",
   "metadata": {},
   "outputs": [],
   "source": [
    "from sklearn.neural_network import MLPClassifier #Multilayer perceptrom\n",
    "clf=MLPClassifier(solver='adam', hidden_layer_sizes=(5,2), random_state=2, max_iter=2000)\n",
    "clf.fit(xtrain,ytrain) #input and output training data\n",
    "predict2=clf.predict(xtest)\n",
    "predict2 #predict value"
   ]
  },
  {
   "cell_type": "code",
   "execution_count": null,
   "id": "875c7500-2bfd-41d0-954f-a8505600764f",
   "metadata": {},
   "outputs": [],
   "source": [
    "from sklearn.metrics import accuracy_score\n",
    "accuracy_score(ytest,predict2)"
   ]
  },
  {
   "cell_type": "code",
   "execution_count": null,
   "id": "0244c44b-8640-4d6e-af05-043a40c70bf8",
   "metadata": {},
   "outputs": [],
   "source": [
    "#Machine learing Algorithm\n",
    "from sklearn.ensemble import GradientBoostingClassifier\n",
    "gr=GradientBoostingClassifier()\n",
    "gr.fit(xtrain,ytrain) #input and output training data\n",
    "predict=gr.predict(xtest)\n",
    "predict #predict value"
   ]
  },
  {
   "cell_type": "code",
   "execution_count": null,
   "id": "01bc30e6-4877-44b3-8b6d-2d3f6f16c926",
   "metadata": {},
   "outputs": [],
   "source": [
    "from sklearn.metrics import accuracy_score\n",
    "accuracy_score(ytest,predict)"
   ]
  },
  {
   "cell_type": "code",
   "execution_count": 69,
   "id": "cc69b603-615a-4ae5-aa02-c1bcd46e0f1b",
   "metadata": {},
   "outputs": [
    {
     "data": {
      "text/plain": [
       "['C:\\\\Users\\\\Bipin\\\\Employee Salary Predicition\\\\pkl/model.pkl']"
      ]
     },
     "execution_count": 69,
     "metadata": {},
     "output_type": "execute_result"
    }
   ],
   "source": [
    "import joblib\n",
    "joblib.dump(lr,r\"C:\\Users\\Bipin\\Employee Salary Predicition\\pkl/model.pkl\")"
   ]
  },
  {
   "cell_type": "code",
   "execution_count": 71,
   "id": "b6eab220-c1b4-4065-b8b0-c7883de71ea2",
   "metadata": {},
   "outputs": [
    {
     "data": {
      "text/plain": [
       "['pkl/gender_encoder.pkl']"
      ]
     },
     "execution_count": 71,
     "metadata": {},
     "output_type": "execute_result"
    }
   ],
   "source": [
    "import joblib\n",
    "joblib.dump(occ_encoder, 'pkl/occ_encoder.pkl')\n",
    "joblib.dump(gender_encoder, 'pkl/gender_encoder.pkl')"
   ]
  },
  {
   "cell_type": "code",
   "execution_count": null,
   "id": "4186d202-15de-4f79-9a93-81af245a7438",
   "metadata": {},
   "outputs": [],
   "source": [
    "import pandas as pd\n",
    "from sklearn.model_selection import train_test_split\n",
    "from sklearn.preprocessing import StandardScaler, OneHotEncoder, LabelEncoder\n",
    "from sklearn.compose import ColumnTransformer\n",
    "from sklearn.pipeline import Pipeline\n",
    "from sklearn.ensemble import GradientBoostingClassifier\n",
    "import joblib\n",
    "\n",
    "# 2. Encode target variable\n",
    "le_income = LabelEncoder()\n",
    "y = le_income.fit_transform(df[\"income\"])\n",
    "joblib.dump(le_income, 'pkl/income_label_encoder.pkl')\n",
    "\n",
    "# 3. Select relevant features\n",
    "X = df[['age', 'educational-num', 'hours-per-week', 'occupation']].copy()\n",
    "\n",
    "# 4. Train-test split\n",
    "X_train, X_test, y_train, y_test = train_test_split(X, y, test_size=0.2, random_state=42, stratify=y)\n",
    "\n",
    "# 5. Define preprocessing\n",
    "categorical_features = ['occupation']\n",
    "numerical_features = ['age', 'educational-num', 'hours-per-week']\n",
    "\n",
    "numeric_transformer = Pipeline(steps=[\n",
    "    ('scaler', StandardScaler())\n",
    "])\n",
    "\n",
    "categorical_transformer = Pipeline(steps=[\n",
    "    ('onehot', OneHotEncoder(handle_unknown='ignore'))\n",
    "])\n",
    "\n",
    "preprocessor = ColumnTransformer(\n",
    "    transformers=[\n",
    "        ('num', numeric_transformer, numerical_features),\n",
    "        ('cat', categorical_transformer, categorical_features)\n",
    "    ]\n",
    ")\n",
    "\n",
    "# 6. Define pipeline with Gradient Boosting\n",
    "model = Pipeline(steps=[\n",
    "    ('preprocessor', preprocessor),\n",
    "    ('classifier', GradientBoostingClassifier())\n",
    "])\n",
    "\n",
    "# 7. Train model\n",
    "model.fit(X_train, y_train)\n",
    "\n",
    "# 8. Save the trained model\n",
    "joblib.dump(model, 'pkl/model.pkl')\n",
    "print(\"✅ Gradient Boosting model saved to pkl/model.pkl\")\n"
   ]
  },
  {
   "cell_type": "code",
   "execution_count": 77,
   "id": "92ca4d5f-541d-42e0-b3c6-dd1f035a2441",
   "metadata": {},
   "outputs": [
    {
     "name": "stdout",
     "output_type": "stream",
     "text": [
      "Overwriting app.py\n"
     ]
    }
   ],
   "source": [
    "%%writefile app.py\n",
    "import streamlit as st\n",
    "import pandas as pd\n",
    "import joblib\n",
    "\n",
    "# Load the trained model and encoders\n",
    "model = joblib.load(\"pkl/model.pkl\")\n",
    "occupation_encoder = joblib.load(\"pkl/occ_encoder.pkl\")  # corrected filename\n",
    "gender_encoder = joblib.load(\"pkl/gender_encoder.pkl\")\n",
    "\n",
    "st.set_page_config(page_title=\"Employee Salary Classification\", page_icon=\"💼\", layout=\"centered\")\n",
    "\n",
    "st.title(\"💼 Employee Salary Classification App\")\n",
    "st.markdown(\"Predict whether an employee earns >50K or ≤50K based on input features.\")\n",
    "\n",
    "# Sidebar inputs\n",
    "st.sidebar.header(\"Input Employee Details\")\n",
    "\n",
    "age = st.sidebar.slider(\"Age\", 18, 65, 30)\n",
    "\n",
    "education_levels = {\n",
    "    \"Preschool\": 1, \"1st-4th\": 2, \"5th-6th\": 3, \"7th-8th\": 4, \"9th\": 5,\n",
    "    \"10th\": 6, \"11th\": 7, \"12th\": 8, \"HS-grad\": 9, \"Some-college\": 10,\n",
    "    \"Assoc\": 11, \"Bachelors\": 13, \"Masters\": 14, \"PhD\": 16\n",
    "}\n",
    "education_label = st.sidebar.selectbox(\"Education Level\", list(education_levels.keys()))\n",
    "educational_num = education_levels[education_label]\n",
    "\n",
    "occupation_label = st.sidebar.selectbox(\"Job Role\", [\n",
    "    \"Tech-support\", \"Craft-repair\", \"Other-service\", \"Sales\",\n",
    "    \"Exec-managerial\", \"Prof-specialty\", \"Handlers-cleaners\", \"Machine-op-inspct\",\n",
    "    \"Adm-clerical\", \"Farming-fishing\", \"Transport-moving\", \"Priv-house-serv\",\n",
    "    \"Protective-serv\", \"Armed-Forces\"\n",
    "])\n",
    "\n",
    "gender_label = st.sidebar.radio(\"Gender\", [\"Male\", \"Female\"])\n",
    "\n",
    "hours_per_week = st.sidebar.slider(\"Hours per week\", 1, 80, 40)\n",
    "\n",
    "# Encode occupation and gender using saved encoders\n",
    "occupation_encoded = occupation_encoder.transform([occupation_label])[0]\n",
    "gender_encoded = gender_encoder.transform([gender_label])[0]\n",
    "\n",
    "# Build input DataFrame\n",
    "input_df = pd.DataFrame({\n",
    "    'age': [age],\n",
    "    'educational-num': [educational_num],\n",
    "    'occupation': [occupation_encoded],\n",
    "    'gender': [gender_encoded],\n",
    "    'hours-per-week': [hours_per_week]\n",
    "})\n",
    "\n",
    "st.write(\"### 🔎 Input Data\")\n",
    "st.write(input_df)\n",
    "\n",
    "# Predict\n",
    "if st.button(\"Predict Salary Class\"):\n",
    "    prediction = model.predict(input_df)[0]\n",
    "    salary_class = prediction\n",
    "    st.success(f\"✅ Prediction: {salary_class}\")\n",
    "\n",
    "# Batch prediction\n",
    "st.markdown(\"---\")\n",
    "st.markdown(\"#### 📂 Batch Prediction\")\n",
    "uploaded_file = st.file_uploader(\"Upload a CSV file for batch prediction\", type=\"csv\")\n",
    "\n",
    "if uploaded_file is not None:\n",
    "    batch_data = pd.read_csv(uploaded_file)\n",
    "    try:\n",
    "        # Encode batch data's occupation and gender\n",
    "        batch_data['occupation'] = occupation_encoder.transform(batch_data['occupation'])\n",
    "        batch_data['gender'] = gender_encoder.transform(batch_data['gender'])\n",
    "\n",
    "        batch_preds = model.predict(batch_data)\n",
    "        batch_data['PredictedClass'] = [\"More than 50K\" if pred == 1 else \"Less than or equal to 50K\" for pred in batch_preds]\n",
    "\n",
    "        st.write(\"✅ Predictions:\")\n",
    "        st.write(batch_data.head())\n",
    "\n",
    "        csv = batch_data.to_csv(index=False).encode('utf-8')\n",
    "        st.download_button(\"Download Predictions CSV\", csv, file_name='predicted_classes.csv', mime='text/csv')\n",
    "    except Exception as e:\n",
    "        st.error(f\"❌ Error during batch prediction: {e}\")\n"
   ]
  },
  {
   "cell_type": "code",
   "execution_count": 75,
   "id": "9e4bb047-c7c7-48e9-9c0b-7ca623d0aa2e",
   "metadata": {},
   "outputs": [
    {
     "name": "stdout",
     "output_type": "stream",
     "text": [
      "{'<=50K': 36323, '>50K': 11649}\n"
     ]
    }
   ],
   "source": [
    "import numpy as np\n",
    "unique, counts = np.unique(y, return_counts=True)\n",
    "print(dict(zip(unique, counts)))"
   ]
  },
  {
   "cell_type": "code",
   "execution_count": null,
   "id": "6beedf21-92f7-4eb2-aeb9-592e31a15ab4",
   "metadata": {},
   "outputs": [],
   "source": []
  }
 ],
 "metadata": {
  "kernelspec": {
   "display_name": "Python [conda env:base] *",
   "language": "python",
   "name": "conda-base-py"
  },
  "language_info": {
   "codemirror_mode": {
    "name": "ipython",
    "version": 3
   },
   "file_extension": ".py",
   "mimetype": "text/x-python",
   "name": "python",
   "nbconvert_exporter": "python",
   "pygments_lexer": "ipython3",
   "version": "3.12.7"
  }
 },
 "nbformat": 4,
 "nbformat_minor": 5
}
